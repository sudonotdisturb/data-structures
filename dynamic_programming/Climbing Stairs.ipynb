{
 "cells": [
  {
   "cell_type": "markdown",
   "id": "eb783a02",
   "metadata": {},
   "source": [
    "# Climbing Stairs\n",
    "\n",
    "You are climbing a staircase. It takes n steps to reach the top.\n",
    "\n",
    "Each time you can either climb 1 or 2 steps. In how many distinct ways can you climb to the top?\n",
    "\n",
    "#### Example 1\n",
    "\n",
    "```\n",
    "Input: n = 2\n",
    "Output: 2\n",
    "Explanation: There are two ways to climb to the top.\n",
    "1. 1 step + 1 step\n",
    "2. 2 steps\n",
    "```\n",
    "\n",
    "#### Example 2\n",
    "\n",
    "```\n",
    "Input: n = 3\n",
    "Output: 3\n",
    "Explanation: There are three ways to climb to the top.\n",
    "1. 1 step + 1 step + 1 step\n",
    "2. 1 step + 2 steps\n",
    "3. 2 steps + 1 step\n",
    "```\n",
    "\n",
    "Constraints:\n",
    "\n",
    "1 <= n <= 45"
   ]
  },
  {
   "cell_type": "markdown",
   "id": "48d6ff7d",
   "metadata": {},
   "source": [
    "## Explanation"
   ]
  },
  {
   "cell_type": "markdown",
   "id": "451617bb",
   "metadata": {},
   "source": [
    "Our base cases are:\n",
    "\n",
    "* $n = 1$: 1 way to climb staircase of 1 steps\n",
    "* $n = 2$: 1,1 or 2 => 2 ways\n",
    "\n",
    "If we think about the next few $n$'s greater than 1:\n",
    "\n",
    "* $n = 3$: 1,1,1 or 1,2 or 2,1 => 3 ways\n",
    "* $n = 4$: 1,1,1,1 or 1,1,2 or 1,2,1 or 2,1,1 or 2,2 => 5 ways\n",
    "\n",
    "And so on. If we visualize this in an array:\n",
    "\n",
    "\\[1, 2, 3, 5, 8...\\]\n",
    "\n",
    "The next number is just the sum of the two previous numbers (not including 0)."
   ]
  },
  {
   "cell_type": "markdown",
   "id": "a4b0c5aa",
   "metadata": {},
   "source": [
    "From a dynamic programming perspective, if we know how many different ways we can climb to $n-2$ and $n-1$ steps, we can figure out how to get to $n$ steps."
   ]
  },
  {
   "cell_type": "code",
   "execution_count": 2,
   "id": "1e4d8177",
   "metadata": {},
   "outputs": [],
   "source": [
    "def climbStairs(n):\n",
    "    if n < 4:\n",
    "        return n\n",
    "    \n",
    "    prev = 1\n",
    "    secondPrev = 1\n",
    "    \n",
    "    for i in range(2, n+1):\n",
    "        nextVal = prev + secondPrev\n",
    "        secondPrev = prev\n",
    "        prev = nextVal\n",
    "        \n",
    "    return nextVal"
   ]
  },
  {
   "cell_type": "markdown",
   "id": "bdc2f878",
   "metadata": {},
   "source": [
    "## Test Cases"
   ]
  },
  {
   "cell_type": "code",
   "execution_count": 3,
   "id": "b9a96ada",
   "metadata": {},
   "outputs": [
    {
     "data": {
      "text/plain": [
       "[1, 2, 3, 5, 8, 13, 21, 34, 55, 89]"
      ]
     },
     "execution_count": 3,
     "metadata": {},
     "output_type": "execute_result"
    }
   ],
   "source": [
    "[climbStairs(n) for n in range(1, 11)]"
   ]
  },
  {
   "cell_type": "markdown",
   "id": "03ec7c68",
   "metadata": {},
   "source": [
    "# Min Cost Climbing Stairs"
   ]
  },
  {
   "cell_type": "markdown",
   "id": "f68d0914",
   "metadata": {},
   "source": [
    "You are given an integer array `cost` where `cost[i]` is the cost of the ith step on a staircase. Once you pay the cost, you can either climb one or two steps.\n",
    "\n",
    "You can either start from the step with index 0, or the step with index 1.\n",
    "\n",
    "Return the minimum cost to reach the top of the floor.\n",
    " \n",
    "\n",
    "#### Example 1:\n",
    "\n",
    "```\n",
    "Input: cost = [10,15,20]\n",
    "Output: 15\n",
    "Explanation: Cheapest is: start on cost[1], pay that cost, and go to the top.\n",
    "```\n",
    "\n",
    "##### Example 2:\n",
    "\n",
    "```\n",
    "Input: cost = [1,100,1,1,1,100,1,1,100,1]\n",
    "Output: 6\n",
    "Explanation: Cheapest is: start on cost[0], and only step on 1s, skipping cost[3].\n",
    "```\n",
    "\n",
    "Constraints:\n",
    "\n",
    "2 <= `cost.length` <= 1000\n",
    "0 <= `cost[i]` <= 999"
   ]
  },
  {
   "cell_type": "markdown",
   "id": "f82a44e2",
   "metadata": {},
   "source": [
    "## Explanation"
   ]
  },
  {
   "cell_type": "markdown",
   "id": "b65c395d",
   "metadata": {},
   "source": [
    "Start by trying to find a recurrence relation amongst the cases. We know that in order to figure out the total cost at the current step, we need to add the cost of the current step to the minimum total cost from the previous two steps.\n",
    "\n",
    "To store our minimum total costs, we will create an array `dp`. For steps 0 and 1, the costs will be `cost[0]` and `cost[1]`, since that is the minimum total cost to reach those steps.\n",
    "\n",
    "To figure out the minimum total cost of step 2, we will need to use two things:\n",
    "\n",
    "* The cost of the 2nd step, and\n",
    "* The minimum total cost of the first two steps\n",
    "\n",
    "The cost of the 2nd step is just `cost[2]`. The minimum total cost of the first two steps is `min(dp[0], dp[1])`. Therefore, the minimum total cost to take the 2nd step is `cost[2] + min(dp[0], dp[1])`. \n",
    "\n",
    "Since this pattern applies to 2, it will apply to any number $n$. Let us use the 2nd step's formula to derive a general relation:\n",
    "\n",
    "``\n",
    "dp[i] = cost[i] + min(dp[i-1], dp[i-2])\n",
    "``\n",
    "\n",
    "We can use this to calculate the value at each index of our minimum total cost array. The final result will just be the minimum of the last two elements."
   ]
  },
  {
   "cell_type": "markdown",
   "id": "493fd519",
   "metadata": {},
   "source": [
    "To go into more depth regarding the steps of this problem, read [this](https://leetcode.com/problems/min-cost-climbing-stairs/discuss/476388/4-ways-or-Step-by-step-from-Recursion-greater-top-down-DP-greater-bottom-up-DP-greater-fine-tuning) discussion post on Leetcode."
   ]
  },
  {
   "cell_type": "code",
   "execution_count": 7,
   "id": "ab4ba7b4",
   "metadata": {},
   "outputs": [],
   "source": [
    "def minCostClimbingStairs(cost):\n",
    "    \"\"\"\n",
    "    :type cost: List[int]\n",
    "    :rtype: int\n",
    "    \"\"\"\n",
    "    dp = [cost[0], cost[1]]\n",
    "\n",
    "    for i in range(2, len(cost)):\n",
    "        dp.append( cost[i] + min(dp[i-1], dp[i-2]) )\n",
    "\n",
    "    print(\"dp = \", dp)\n",
    "        \n",
    "    return min(dp[-1], dp[-2])"
   ]
  },
  {
   "cell_type": "markdown",
   "id": "69864b06",
   "metadata": {},
   "source": [
    "We can actually improve the memory usage of this algorithm! We know we only need the previous two minimum total costs to calculate the next minimum total cost, so we can remove the array entirely."
   ]
  },
  {
   "cell_type": "code",
   "execution_count": 10,
   "id": "6efd10f7",
   "metadata": {},
   "outputs": [],
   "source": [
    "def minCostClimbingStairs2(cost):\n",
    "        \"\"\"\n",
    "        :type cost: List[int]\n",
    "        :rtype: int\n",
    "        \"\"\"\n",
    "        prev = cost[1]\n",
    "        secondPrev = cost[0]\n",
    "        \n",
    "        if len(cost) < 3:\n",
    "            return min(prev, secondPrev)\n",
    "        \n",
    "        for i in range(2, len(cost)):\n",
    "            nextTotalCost = cost[i] + min(prev, secondPrev)\n",
    "            secondPrev = prev\n",
    "            prev = nextTotalCost\n",
    "        \n",
    "        return min(nextTotalCost, secondPrev)"
   ]
  },
  {
   "cell_type": "markdown",
   "id": "05bcfb6f",
   "metadata": {},
   "source": [
    "## Test Cases"
   ]
  },
  {
   "cell_type": "code",
   "execution_count": 11,
   "id": "56534f2e",
   "metadata": {},
   "outputs": [
    {
     "name": "stdout",
     "output_type": "stream",
     "text": [
      "dp =  [1, 100, 2, 3, 3, 103, 4, 5, 104, 6]\n"
     ]
    },
    {
     "data": {
      "text/plain": [
       "(6, 6)"
      ]
     },
     "execution_count": 11,
     "metadata": {},
     "output_type": "execute_result"
    }
   ],
   "source": [
    "c = [1,100,1,1,1,100,1,1,100,1]\n",
    "\n",
    "minCostClimbingStairs(c), minCostClimbingStairs2(c)"
   ]
  },
  {
   "cell_type": "code",
   "execution_count": 14,
   "id": "08efe4bb",
   "metadata": {},
   "outputs": [
    {
     "name": "stdout",
     "output_type": "stream",
     "text": [
      "dp =  [50, 25, 26, 27, 29, 28]\n"
     ]
    },
    {
     "data": {
      "text/plain": [
       "(28, 28)"
      ]
     },
     "execution_count": 14,
     "metadata": {},
     "output_type": "execute_result"
    }
   ],
   "source": [
    "c = [50, 25, 1, 2, 3, 1]\n",
    "\n",
    "minCostClimbingStairs(c), minCostClimbingStairs2(c)"
   ]
  },
  {
   "cell_type": "code",
   "execution_count": 15,
   "id": "576ae481",
   "metadata": {},
   "outputs": [
    {
     "name": "stdout",
     "output_type": "stream",
     "text": [
      "dp =  [1, 100]\n"
     ]
    },
    {
     "data": {
      "text/plain": [
       "(1, 1)"
      ]
     },
     "execution_count": 15,
     "metadata": {},
     "output_type": "execute_result"
    }
   ],
   "source": [
    "c = [1, 100]\n",
    "\n",
    "minCostClimbingStairs(c), minCostClimbingStairs2(c)"
   ]
  }
 ],
 "metadata": {
  "kernelspec": {
   "display_name": "Python 3 (ipykernel)",
   "language": "python",
   "name": "python3"
  },
  "language_info": {
   "codemirror_mode": {
    "name": "ipython",
    "version": 3
   },
   "file_extension": ".py",
   "mimetype": "text/x-python",
   "name": "python",
   "nbconvert_exporter": "python",
   "pygments_lexer": "ipython3",
   "version": "3.8.10"
  }
 },
 "nbformat": 4,
 "nbformat_minor": 5
}
