{
 "cells": [
  {
   "cell_type": "markdown",
   "id": "569fc7c4",
   "metadata": {},
   "source": [
    "# Greedy Algorithms"
   ]
  },
  {
   "cell_type": "markdown",
   "id": "faf6dbb6",
   "metadata": {},
   "source": [
    "## Interval Scheduling\n",
    "\n",
    "Given: a set T of n tasks, each having:\n",
    "* A start time, $s_i$\n",
    "* A a duration time\n",
    "\n",
    "Goal: Fit as many intervals into the schedule as possible."
   ]
  },
  {
   "cell_type": "markdown",
   "id": "a992214d",
   "metadata": {},
   "source": [
    "Runtime: $O(n \\operatorname{log} n)$\n",
    "\n",
    "Input: a list `s` of start times, a list `d` of durations.\n",
    "\n",
    "Output: maximum number of tasks that can be scheduled."
   ]
  },
  {
   "cell_type": "code",
   "execution_count": 85,
   "id": "934e839c",
   "metadata": {},
   "outputs": [],
   "source": [
    "def universityCareerFair(arrival, duration):\n",
    "    numEvents = 0\n",
    "    \n",
    "    # We use lastEndTime to keep track of the time the previous company left.\n",
    "    previousEndTime = 0\n",
    "    \n",
    "    # Aggregates the arrivals and durations into a list of tuples\n",
    "    schedule = list(zip(arrival, duration))\n",
    "        \n",
    "    # Sorts the list by (end time, duration), meaning it will prioritize\n",
    "    # sorting by end time first, then duration\n",
    "    # Result is tuples sorted by earliest end time\n",
    "    schedule.sort(key=lambda p: (sum(p), p[1]) )\n",
    "    \n",
    "    # Iterate through each interval\n",
    "    for arriveTime, stayTime in schedule:\n",
    "        # If the company arrives at or after the time the previous company left,\n",
    "        # we can fit them in the schedule\n",
    "        if arriveTime >= previousEndTime:\n",
    "            numEvents += 1\n",
    "            \n",
    "            # Set the previous end time to the end time of the current company\n",
    "            previousEndTime = arriveTime + stayTime\n",
    "            \n",
    "    return numEvents"
   ]
  },
  {
   "cell_type": "markdown",
   "id": "6814eab7",
   "metadata": {},
   "source": [
    "Note: If we assume that the schedule will always start at $t = 0$, then we can set `lastEndTime` to 0. If not, we set it to `-float('inf')`."
   ]
  },
  {
   "cell_type": "markdown",
   "id": "c01fb855",
   "metadata": {},
   "source": [
    "#### Test cases:"
   ]
  },
  {
   "cell_type": "code",
   "execution_count": 76,
   "id": "6f2c50eb",
   "metadata": {},
   "outputs": [
    {
     "name": "stdout",
     "output_type": "stream",
     "text": [
      "[(1, 2), (3, 1), (3, 2), (5, 2), (7, 1)]\n"
     ]
    },
    {
     "data": {
      "text/plain": [
       "4"
      ]
     },
     "execution_count": 76,
     "metadata": {},
     "output_type": "execute_result"
    }
   ],
   "source": [
    "arrival = [1, 3, 3, 5, 7]\n",
    "duration = [2, 2, 1, 2, 1]\n",
    "\n",
    "universityCareerFair(arrival, duration)"
   ]
  },
  {
   "cell_type": "code",
   "execution_count": 70,
   "id": "d948d03d",
   "metadata": {},
   "outputs": [
    {
     "data": {
      "text/plain": [
       "2"
      ]
     },
     "execution_count": 70,
     "metadata": {},
     "output_type": "execute_result"
    }
   ],
   "source": [
    "arrival = [1, 1, 1, 1, 4]\n",
    "duration = [10, 3, 6, 4, 2]\n",
    "\n",
    "universityCareerFair(arrival, duration)"
   ]
  }
 ],
 "metadata": {
  "kernelspec": {
   "display_name": "Python 3",
   "language": "python",
   "name": "python3"
  },
  "language_info": {
   "codemirror_mode": {
    "name": "ipython",
    "version": 3
   },
   "file_extension": ".py",
   "mimetype": "text/x-python",
   "name": "python",
   "nbconvert_exporter": "python",
   "pygments_lexer": "ipython3",
   "version": "3.8.2"
  }
 },
 "nbformat": 4,
 "nbformat_minor": 5
}
