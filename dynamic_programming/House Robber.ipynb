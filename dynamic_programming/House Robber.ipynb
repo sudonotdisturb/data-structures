{
 "cells": [
  {
   "cell_type": "markdown",
   "id": "f6d40c17",
   "metadata": {},
   "source": [
    "# House Robber"
   ]
  },
  {
   "cell_type": "markdown",
   "id": "40a32c7b",
   "metadata": {},
   "source": [
    "You are a professional robber planning to rob houses along a street. Each house has a certain amount of money stashed, the only constraint stopping you from robbing each of them is that adjacent houses have security systems connected and it will automatically contact the police if two adjacent houses were broken into on the same night.\n",
    "\n",
    "Given an integer array nums representing the amount of money of each house, return the maximum amount of money you can rob tonight without alerting the police.\n",
    "\n",
    " \n",
    "#### Example 1:\n",
    "\n",
    "```\n",
    "Input: nums = [1,2,3,1]\n",
    "Output: 4\n",
    "Explanation: Rob house 1 (money = 1) and then rob house 3 (money = 3).\n",
    "Total amount you can rob = 1 + 3 = 4.\n",
    "```\n",
    "\n",
    "#### Example 2:\n",
    "\n",
    "```\n",
    "Input: nums = [2,7,9,3,1]\n",
    "Output: 12\n",
    "Explanation: Rob house 1 (money = 2), rob house 3 (money = 9) and rob house 5 (money = 1).\n",
    "Total amount you can rob = 2 + 9 + 1 = 12.\n",
    "``` \n",
    "\n",
    "Constraints:\n",
    "\n",
    "    1 <= nums.length <= 100\n",
    "\n",
    "    0 <= nums[i] <= 400"
   ]
  },
  {
   "cell_type": "code",
   "execution_count": 4,
   "id": "a7b69d90",
   "metadata": {},
   "outputs": [],
   "source": [
    "def rob(nums):\n",
    "    \"\"\"\n",
    "    :type nums: List[int]\n",
    "    :rtype: int\n",
    "    \"\"\"\n",
    "    n = len(nums)\n",
    "    \n",
    "    if n < 3:\n",
    "        return max(nums)\n",
    "\n",
    "    dp = [nums[0], nums[1], nums[2] + nums[0]]\n",
    "\n",
    "    for i in range(3, n):\n",
    "        dp.append(nums[i] + max(dp[i-2], dp[i-3]))\n",
    "\n",
    "    return max(dp[-1], dp[-2])"
   ]
  },
  {
   "cell_type": "markdown",
   "id": "ce1771d0",
   "metadata": {},
   "source": [
    "## Explanation (Line-by-Line)"
   ]
  },
  {
   "cell_type": "markdown",
   "id": "63dd09b1",
   "metadata": {},
   "source": [
    "We start out by storing the length of nums to prevent repeated calls to `len()`.\n",
    "\n",
    "    n = len(nums)\n",
    "    \n",
    "Since there is no dynamic programming needed if there are one or two houses, we can return the max of the `nums` array if `n < 3`.\n",
    "    \n",
    "    if n < 3:\n",
    "        return max(nums)\n",
    "        \n",
    "We now add the money from the first house and that of the second house to the `dp` array. The third house's earnings is easy to calculate: since we cannot rob the house immediately to the left of it, we get the most earnings by robbing the first house. Therefore, the value of the third house is the first house's value plus its own value: `nums[0] + nums[2]`.\n",
    "\n",
    "    dp = [nums[0], nums[1], nums[2] + nums[0]]\n",
    "    \n",
    "Now, we populate the `dp` array. We start at index 3, since we've already calculated the values of the first three houses (indices 0-2). At each house, we can either rob the house before the left adjacent one, or the house adjacent to that one.\n",
    "\n",
    "For example:\n",
    "\n",
    "\\[1, 2, 3, 4\\]\n",
    "\n",
    "If we are robbing house 4, we cannot rob house 3. However, we can rob either of houses 1 or 2. In order to figure out which house provides the most value, we use a `max()` function.\n",
    "\n",
    "    for i in range(3, n):\n",
    "        dp.append(nums[i] + max(dp[i-2], dp[i-3]))\n",
    "        \n",
    "Finally, we return the `max()` of the last two values in the `dp` array. This is because either the last house or the second-to-last house will have the highest value, and we can only rob one or the other.\n",
    "\n",
    "    return max(dp[-1], dp[-2])"
   ]
  }
 ],
 "metadata": {
  "kernelspec": {
   "display_name": "Python 3 (ipykernel)",
   "language": "python",
   "name": "python3"
  },
  "language_info": {
   "codemirror_mode": {
    "name": "ipython",
    "version": 3
   },
   "file_extension": ".py",
   "mimetype": "text/x-python",
   "name": "python",
   "nbconvert_exporter": "python",
   "pygments_lexer": "ipython3",
   "version": "3.8.10"
  }
 },
 "nbformat": 4,
 "nbformat_minor": 5
}
