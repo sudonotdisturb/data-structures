{
 "cells": [
  {
   "cell_type": "markdown",
   "id": "22202ee2",
   "metadata": {},
   "source": [
    "# Binary Search"
   ]
  },
  {
   "cell_type": "markdown",
   "id": "53060691",
   "metadata": {},
   "source": [
    "Very detailed Leetcode explanation [here](https://leetcode.com/problems/binary-search/discuss/423162/Binary-Search-101)."
   ]
  },
  {
   "cell_type": "code",
   "execution_count": 7,
   "id": "6a67feab",
   "metadata": {},
   "outputs": [],
   "source": [
    "import math"
   ]
  },
  {
   "cell_type": "code",
   "execution_count": 13,
   "id": "0d3f94a3",
   "metadata": {},
   "outputs": [],
   "source": [
    "def search(nums, target):\n",
    "    \"\"\"\n",
    "    :type nums: List[int]\n",
    "    :type target: int\n",
    "    :rtype: int\n",
    "    \"\"\"\n",
    "    lo, hi = 0, len(nums) - 1\n",
    "\n",
    "    while lo < hi:\n",
    "        mid = int(lo + math.floor( (hi - lo + 1)/2 )) # right/upper mid\n",
    "        if target < nums[mid]:\n",
    "            hi = mid - 1\n",
    "        else:\n",
    "            lo = mid\n",
    "\n",
    "    if nums[lo] == target:\n",
    "        return lo\n",
    "    else:\n",
    "        return -1"
   ]
  },
  {
   "cell_type": "markdown",
   "id": "856afa44",
   "metadata": {},
   "source": [
    "## Test Cases"
   ]
  },
  {
   "cell_type": "code",
   "execution_count": 11,
   "id": "da04fc89",
   "metadata": {},
   "outputs": [
    {
     "data": {
      "text/plain": [
       "[0, 1, 2, 3, 4, 5, 6, 7, 8, 9, 10, 11, 12, 13, 14]"
      ]
     },
     "execution_count": 11,
     "metadata": {},
     "output_type": "execute_result"
    }
   ],
   "source": [
    "arr = [10, 20, 30, 40, 50, 60, 70, 80, 90, 100, 200, 300, 400, 500, 600]\n",
    "[search(arr, i) for i in arr]"
   ]
  }
 ],
 "metadata": {
  "kernelspec": {
   "display_name": "Python 3 (ipykernel)",
   "language": "python",
   "name": "python3"
  },
  "language_info": {
   "codemirror_mode": {
    "name": "ipython",
    "version": 3
   },
   "file_extension": ".py",
   "mimetype": "text/x-python",
   "name": "python",
   "nbconvert_exporter": "python",
   "pygments_lexer": "ipython3",
   "version": "3.8.10"
  }
 },
 "nbformat": 4,
 "nbformat_minor": 5
}
